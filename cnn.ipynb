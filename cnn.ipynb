{
 "cells": [
  {
   "cell_type": "code",
   "id": "initial_id",
   "metadata": {
    "collapsed": true,
    "ExecuteTime": {
     "end_time": "2025-05-05T07:23:51.355504Z",
     "start_time": "2025-05-05T07:23:30.217462Z"
    }
   },
   "source": [
    "import pandas as pd\n",
    "import torch\n",
    "from torch import nn\n",
    "from torch.utils.data import Dataset, DataLoader\n",
    "from sklearn.model_selection import train_test_split\n",
    "from sklearn.metrics import classification_report, accuracy_score\n",
    "import numpy as np\n",
    "\n",
    "# 1. 设置设备\n",
    "device = torch.device(\"cuda\" if torch.cuda.is_available() else \"cpu\")\n",
    "print(f\"Using device: {device}\")\n",
    "\n",
    "# 2. 加载并预处理数据\n",
    "X = pd.read_csv(\"Dataset/train_image_labeled.csv\").values.astype(np.float32) / 255.0\n",
    "y = pd.read_csv(\"Dataset/train_label.csv\").values.flatten().astype(np.int64)\n",
    "X = X.reshape(-1, 1, 28, 28)  # CNN 输入格式\n",
    "\n",
    "# 3. 划分训练集和验证集\n",
    "X_train, X_val, y_train, y_val = train_test_split(X, y, test_size=0.2, random_state=42)\n",
    "\n",
    "class MNISTDataset(Dataset):\n",
    "    def __init__(self, X, y):\n",
    "        self.X = torch.tensor(X, dtype=torch.float32)\n",
    "        self.y = torch.tensor(y, dtype=torch.long)\n",
    "\n",
    "    def __len__(self):\n",
    "        return len(self.X)\n",
    "\n",
    "    def __getitem__(self, idx):\n",
    "        return self.X[idx], self.y[idx]\n",
    "\n",
    "train_dataset = MNISTDataset(X_train, y_train)\n",
    "val_dataset = MNISTDataset(X_val, y_val)\n",
    "train_loader = DataLoader(train_dataset, batch_size=64, shuffle=True)\n",
    "val_loader = DataLoader(val_dataset, batch_size=64)\n",
    "\n",
    "# 4. CNN 模型定义\n",
    "class CNN(nn.Module):\n",
    "    def __init__(self):\n",
    "        super().__init__()\n",
    "        self.net = nn.Sequential(\n",
    "            nn.Conv2d(1, 32, kernel_size=3, padding=1),\n",
    "            nn.ReLU(),\n",
    "            nn.MaxPool2d(2),\n",
    "            nn.Conv2d(32, 64, kernel_size=3, padding=1),\n",
    "            nn.ReLU(),\n",
    "            nn.MaxPool2d(2),\n",
    "            nn.Flatten(),\n",
    "            nn.Linear(64 * 7 * 7, 128),\n",
    "            nn.ReLU(),\n",
    "            nn.Dropout(0.3),\n",
    "            nn.Linear(128, 10)\n",
    "        )\n",
    "\n",
    "    def forward(self, x):\n",
    "        return self.net(x)\n",
    "\n",
    "model = CNN().to(device)\n",
    "optimizer = torch.optim.Adam(model.parameters(), lr=0.001)\n",
    "loss_fn = nn.CrossEntropyLoss()\n",
    "\n",
    "# 5. 初始化保存逻辑\n",
    "best_acc = 0.0\n",
    "save_path = \"models/best_model.pth\"\n",
    "\n",
    "# # 6. 训练和验证\n",
    "# for epoch in range(100):\n",
    "#     model.train()\n",
    "#     for xb, yb in train_loader:\n",
    "#         xb, yb = xb.to(device), yb.to(device)\n",
    "#         pred = model(xb)\n",
    "#         loss = loss_fn(pred, yb)\n",
    "#         optimizer.zero_grad()\n",
    "#         loss.backward()\n",
    "#         optimizer.step()\n",
    "#\n",
    "#     # 验证阶段\n",
    "#     model.eval()\n",
    "#     y_true = []\n",
    "#     y_pred = []\n",
    "#     with torch.no_grad():\n",
    "#         for xb, yb in val_loader:\n",
    "#             xb = xb.to(device)\n",
    "#             pred = model(xb).argmax(1).cpu()\n",
    "#             y_pred.extend(pred.numpy())\n",
    "#             y_true.extend(yb.numpy())\n",
    "#\n",
    "#     acc = accuracy_score(y_true, y_pred)\n",
    "#     print(f\"\\nEpoch {epoch+1} Accuracy: {acc:.4f}\")\n",
    "#     print(classification_report(y_true, y_pred, digits=4))\n",
    "#\n",
    "#     # 保存当前最优模型\n",
    "#     if acc > best_acc:\n",
    "#         best_acc = acc\n",
    "#         torch.save(model.state_dict(), save_path)\n",
    "#         print(f\"✅ New best model saved at epoch {epoch+1} with accuracy {best_acc:.4f}\")\n"
   ],
   "outputs": [
    {
     "name": "stdout",
     "output_type": "stream",
     "text": [
      "Using device: cuda\n"
     ]
    }
   ],
   "execution_count": 1
  },
  {
   "metadata": {},
   "cell_type": "markdown",
   "source": "对 train_image_unlabeled.csv 进行预测",
   "id": "190588ebc6da0246"
  },
  {
   "metadata": {
    "ExecuteTime": {
     "end_time": "2025-05-05T07:24:22.200693Z",
     "start_time": "2025-05-05T07:24:20.445489Z"
    }
   },
   "cell_type": "code",
   "source": [
    "# 1. 加载无标签数据\n",
    "X_unlabeled = pd.read_csv(\"Dataset/test_image.csv\").values.astype(np.float32) / 255.0\n",
    "X_unlabeled = X_unlabeled.reshape(-1, 1, 28, 28)\n",
    "X_unlabeled_tensor = torch.tensor(X_unlabeled, dtype=torch.float32)\n",
    "\n",
    "# 2. 使用 DataLoader 封装\n",
    "unlabeled_loader = DataLoader(X_unlabeled_tensor, batch_size=64)\n",
    "\n",
    "# 3. 加载最优模型\n",
    "model = CNN().to(device)\n",
    "model.load_state_dict(torch.load(\"models/best_model_cnn.pth\"))\n",
    "model.eval()\n",
    "\n",
    "# 4. 执行预测\n",
    "pred_labels = []\n",
    "\n",
    "with torch.no_grad():\n",
    "    for xb in unlabeled_loader:\n",
    "        xb = xb.to(device)\n",
    "        preds = model(xb).argmax(1).cpu().numpy()\n",
    "        pred_labels.extend(preds)\n",
    "\n",
    "# 5. 保存预测结果为 CSV 文件\n",
    "pred_labels_df = pd.DataFrame(pred_labels, columns=[\"label\"])\n",
    "pred_labels_df.to_csv(\"Dataset/test_result.csv\", index=False)\n",
    "print(\"✅ 预测标签已保存为 Dataset/test_result.csv\")"
   ],
   "id": "4cbf6efa3ef60a91",
   "outputs": [
    {
     "name": "stdout",
     "output_type": "stream",
     "text": [
      "✅ 预测标签已保存为 Dataset/test_result.csv\n"
     ]
    }
   ],
   "execution_count": 2
  }
 ],
 "metadata": {
  "kernelspec": {
   "display_name": "Python 3",
   "language": "python",
   "name": "python3"
  },
  "language_info": {
   "codemirror_mode": {
    "name": "ipython",
    "version": 2
   },
   "file_extension": ".py",
   "mimetype": "text/x-python",
   "name": "python",
   "nbconvert_exporter": "python",
   "pygments_lexer": "ipython2",
   "version": "2.7.6"
  }
 },
 "nbformat": 4,
 "nbformat_minor": 5
}

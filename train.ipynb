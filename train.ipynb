{
 "cells": [
  {
   "metadata": {},
   "cell_type": "markdown",
   "source": "训练脚本",
   "id": "de243accbae4f02e"
  },
  {
   "cell_type": "code",
   "id": "initial_id",
   "metadata": {
    "collapsed": true,
    "ExecuteTime": {
     "end_time": "2025-05-04T14:46:40.219588Z",
     "start_time": "2025-05-04T14:46:40.215554Z"
    }
   },
   "source": [
    "import pandas as pd\n",
    "import torch\n",
    "from loguru import logger\n",
    "from torch import nn\n",
    "from torch.utils.data import DataLoader, TensorDataset\n",
    "from sklearn.model_selection import train_test_split\n",
    "from matplotlib import pyplot as plt"
   ],
   "outputs": [],
   "execution_count": 14
  },
  {
   "metadata": {},
   "cell_type": "markdown",
   "source": "数据加载",
   "id": "40ad59677b11bd7d"
  },
  {
   "metadata": {
    "ExecuteTime": {
     "end_time": "2025-05-04T14:46:40.853536Z",
     "start_time": "2025-05-04T14:46:40.238120Z"
    }
   },
   "cell_type": "code",
   "source": [
    "X = pd.read_csv(\"Dataset/train_image_labeled.csv\").values / 255.0  # 归一化\n",
    "y = pd.read_csv(\"Dataset/train_label.csv\").values.flatten()"
   ],
   "id": "5919f1b87fb1eeb5",
   "outputs": [],
   "execution_count": 15
  },
  {
   "metadata": {},
   "cell_type": "markdown",
   "source": "划分训练集和验证集",
   "id": "d5b1a7b1372e5259"
  },
  {
   "metadata": {
    "ExecuteTime": {
     "end_time": "2025-05-04T14:46:41.018244Z",
     "start_time": "2025-05-04T14:46:40.868773Z"
    }
   },
   "cell_type": "code",
   "source": "X_train, X_val, y_train, y_val = train_test_split(X, y, test_size=0.2, random_state=42)",
   "id": "67dd956bb867fc44",
   "outputs": [],
   "execution_count": 16
  },
  {
   "metadata": {},
   "cell_type": "markdown",
   "source": "转换为 Tensor",
   "id": "6e5a73b224c5d52f"
  },
  {
   "metadata": {
    "ExecuteTime": {
     "end_time": "2025-05-04T14:46:41.051862Z",
     "start_time": "2025-05-04T14:46:41.035672Z"
    }
   },
   "cell_type": "code",
   "source": [
    "X_train_tensor = torch.tensor(X_train, dtype=torch.float32)\n",
    "y_train_tensor = torch.tensor(y_train, dtype=torch.long)\n",
    "X_val_tensor = torch.tensor(X_val, dtype=torch.float32)\n",
    "y_val_tensor = torch.tensor(y_val, dtype=torch.long)\n",
    "\n",
    "train_dataset = TensorDataset(X_train_tensor, y_train_tensor)\n",
    "val_dataset = TensorDataset(X_val_tensor, y_val_tensor)\n",
    "\n",
    "train_loader = DataLoader(train_dataset, batch_size=64, shuffle=True)\n",
    "val_loader = DataLoader(val_dataset, batch_size=64)"
   ],
   "id": "df08fe335e73560f",
   "outputs": [],
   "execution_count": 17
  },
  {
   "metadata": {},
   "cell_type": "markdown",
   "source": "定义 MLP 模型",
   "id": "e6d3456641b63c27"
  },
  {
   "metadata": {
    "ExecuteTime": {
     "end_time": "2025-05-04T14:46:41.082424Z",
     "start_time": "2025-05-04T14:46:41.070749Z"
    }
   },
   "cell_type": "code",
   "source": [
    "class MLP(nn.Module):\n",
    "    def __init__(self):\n",
    "        super().__init__()\n",
    "        self.model = nn.Sequential(\n",
    "            nn.Linear(784, 512),\n",
    "            nn.ReLU(),\n",
    "            nn.Dropout(0.2),\n",
    "            nn.Linear(512, 256),\n",
    "            nn.ReLU(),\n",
    "            nn.Dropout(0.2),\n",
    "            nn.Linear(256, 128),\n",
    "            nn.ReLU(),\n",
    "            nn.Linear(128, 10)\n",
    "        )\n",
    "\n",
    "    def forward(self, x):\n",
    "        return self.model(x)\n",
    "\n",
    "model = MLP()\n",
    "optimizer = torch.optim.Adam(model.parameters(), lr=0.002)\n",
    "loss_fn = nn.CrossEntropyLoss()"
   ],
   "id": "8485bf953d8b0ad9",
   "outputs": [],
   "execution_count": 18
  },
  {
   "metadata": {},
   "cell_type": "markdown",
   "source": "训练",
   "id": "fffc914da50e994a"
  },
  {
   "metadata": {
    "ExecuteTime": {
     "end_time": "2025-05-04T14:47:59.914866Z",
     "start_time": "2025-05-04T14:46:41.101489Z"
    }
   },
   "cell_type": "code",
   "source": [
    "for epoch in range(100):\n",
    "    model.train()\n",
    "    for xb, yb in train_loader:\n",
    "        pred = model(xb)\n",
    "        loss = loss_fn(pred, yb)\n",
    "        optimizer.zero_grad()\n",
    "        loss.backward()\n",
    "        optimizer.step()\n",
    "\n",
    "    # 验证准确率\n",
    "    model.eval()\n",
    "    correct = total = 0\n",
    "    with torch.no_grad():\n",
    "        for xb, yb in val_loader:\n",
    "            pred = model(xb).argmax(1)\n",
    "            correct += (pred == yb).sum().item()\n",
    "            total += yb.size(0)\n",
    "    print(f\"Epoch {epoch+1}, Accuracy: {correct/total:.4f}\")"
   ],
   "id": "dbcdb3b91328bb5a",
   "outputs": [
    {
     "name": "stdout",
     "output_type": "stream",
     "text": [
      "Epoch 1, Accuracy: 0.7671\n",
      "Epoch 2, Accuracy: 0.7929\n",
      "Epoch 3, Accuracy: 0.8233\n",
      "Epoch 4, Accuracy: 0.8317\n",
      "Epoch 5, Accuracy: 0.8392\n",
      "Epoch 6, Accuracy: 0.8350\n",
      "Epoch 7, Accuracy: 0.8396\n",
      "Epoch 8, Accuracy: 0.8404\n",
      "Epoch 9, Accuracy: 0.8367\n",
      "Epoch 10, Accuracy: 0.8425\n",
      "Epoch 11, Accuracy: 0.8275\n",
      "Epoch 12, Accuracy: 0.8150\n",
      "Epoch 13, Accuracy: 0.8483\n",
      "Epoch 14, Accuracy: 0.8454\n",
      "Epoch 15, Accuracy: 0.8550\n",
      "Epoch 16, Accuracy: 0.8496\n",
      "Epoch 17, Accuracy: 0.8442\n",
      "Epoch 18, Accuracy: 0.8483\n",
      "Epoch 19, Accuracy: 0.8500\n",
      "Epoch 20, Accuracy: 0.8542\n",
      "Epoch 21, Accuracy: 0.8654\n",
      "Epoch 22, Accuracy: 0.8542\n",
      "Epoch 23, Accuracy: 0.8425\n",
      "Epoch 24, Accuracy: 0.8458\n",
      "Epoch 25, Accuracy: 0.8546\n",
      "Epoch 26, Accuracy: 0.8550\n",
      "Epoch 27, Accuracy: 0.8567\n",
      "Epoch 28, Accuracy: 0.8504\n",
      "Epoch 29, Accuracy: 0.8567\n",
      "Epoch 30, Accuracy: 0.8512\n",
      "Epoch 31, Accuracy: 0.8617\n",
      "Epoch 32, Accuracy: 0.8525\n",
      "Epoch 33, Accuracy: 0.8467\n",
      "Epoch 34, Accuracy: 0.8483\n",
      "Epoch 35, Accuracy: 0.8617\n",
      "Epoch 36, Accuracy: 0.8446\n",
      "Epoch 37, Accuracy: 0.8583\n",
      "Epoch 38, Accuracy: 0.8517\n",
      "Epoch 39, Accuracy: 0.8521\n",
      "Epoch 40, Accuracy: 0.8575\n",
      "Epoch 41, Accuracy: 0.8525\n",
      "Epoch 42, Accuracy: 0.8583\n",
      "Epoch 43, Accuracy: 0.8604\n",
      "Epoch 44, Accuracy: 0.8550\n",
      "Epoch 45, Accuracy: 0.8608\n",
      "Epoch 46, Accuracy: 0.8625\n",
      "Epoch 47, Accuracy: 0.8562\n",
      "Epoch 48, Accuracy: 0.8508\n",
      "Epoch 49, Accuracy: 0.8483\n",
      "Epoch 50, Accuracy: 0.8567\n",
      "Epoch 51, Accuracy: 0.8562\n",
      "Epoch 52, Accuracy: 0.8571\n",
      "Epoch 53, Accuracy: 0.8562\n",
      "Epoch 54, Accuracy: 0.8500\n",
      "Epoch 55, Accuracy: 0.8604\n",
      "Epoch 56, Accuracy: 0.8554\n",
      "Epoch 57, Accuracy: 0.8579\n",
      "Epoch 58, Accuracy: 0.8612\n",
      "Epoch 59, Accuracy: 0.8567\n",
      "Epoch 60, Accuracy: 0.8633\n",
      "Epoch 61, Accuracy: 0.8600\n",
      "Epoch 62, Accuracy: 0.8604\n",
      "Epoch 63, Accuracy: 0.8546\n",
      "Epoch 64, Accuracy: 0.8642\n",
      "Epoch 65, Accuracy: 0.8600\n",
      "Epoch 66, Accuracy: 0.8588\n",
      "Epoch 67, Accuracy: 0.8629\n",
      "Epoch 68, Accuracy: 0.8567\n",
      "Epoch 69, Accuracy: 0.8542\n",
      "Epoch 70, Accuracy: 0.8604\n",
      "Epoch 71, Accuracy: 0.8554\n",
      "Epoch 72, Accuracy: 0.8604\n",
      "Epoch 73, Accuracy: 0.8579\n",
      "Epoch 74, Accuracy: 0.8517\n",
      "Epoch 75, Accuracy: 0.8546\n",
      "Epoch 76, Accuracy: 0.8600\n",
      "Epoch 77, Accuracy: 0.8583\n",
      "Epoch 78, Accuracy: 0.8650\n",
      "Epoch 79, Accuracy: 0.8571\n",
      "Epoch 80, Accuracy: 0.8546\n",
      "Epoch 81, Accuracy: 0.8504\n",
      "Epoch 82, Accuracy: 0.8583\n",
      "Epoch 83, Accuracy: 0.8517\n",
      "Epoch 84, Accuracy: 0.8612\n",
      "Epoch 85, Accuracy: 0.8617\n",
      "Epoch 86, Accuracy: 0.8533\n",
      "Epoch 87, Accuracy: 0.8588\n",
      "Epoch 88, Accuracy: 0.8529\n",
      "Epoch 89, Accuracy: 0.8629\n",
      "Epoch 90, Accuracy: 0.8658\n",
      "Epoch 91, Accuracy: 0.8612\n",
      "Epoch 92, Accuracy: 0.8592\n",
      "Epoch 93, Accuracy: 0.8517\n",
      "Epoch 94, Accuracy: 0.8604\n",
      "Epoch 95, Accuracy: 0.8629\n",
      "Epoch 96, Accuracy: 0.8692\n",
      "Epoch 97, Accuracy: 0.8654\n",
      "Epoch 98, Accuracy: 0.8658\n",
      "Epoch 99, Accuracy: 0.8621\n",
      "Epoch 100, Accuracy: 0.8633\n"
     ]
    }
   ],
   "execution_count": 19
  }
 ],
 "metadata": {
  "kernelspec": {
   "display_name": "Python 3",
   "language": "python",
   "name": "python3"
  },
  "language_info": {
   "codemirror_mode": {
    "name": "ipython",
    "version": 2
   },
   "file_extension": ".py",
   "mimetype": "text/x-python",
   "name": "python",
   "nbconvert_exporter": "python",
   "pygments_lexer": "ipython2",
   "version": "2.7.6"
  }
 },
 "nbformat": 4,
 "nbformat_minor": 5
}
